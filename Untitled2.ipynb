{
 "cells": [
  {
   "cell_type": "code",
   "execution_count": 2,
   "metadata": {},
   "outputs": [],
   "source": [
    "import pandas as pd"
   ]
  },
  {
   "cell_type": "code",
   "execution_count": 3,
   "metadata": {},
   "outputs": [],
   "source": [
    "table1 = pd.read_csv(\"table1.csv\")"
   ]
  },
  {
   "cell_type": "code",
   "execution_count": 4,
   "metadata": {},
   "outputs": [],
   "source": [
    "table2 = pd.read_csv(\"table2.csv\")"
   ]
  },
  {
   "cell_type": "code",
   "execution_count": 5,
   "metadata": {},
   "outputs": [],
   "source": [
    "table2.id = 0"
   ]
  },
  {
   "cell_type": "code",
   "execution_count": 6,
   "metadata": {},
   "outputs": [
    {
     "name": "stdout",
     "output_type": "stream",
     "text": [
      "0     0\n",
      "1     0\n",
      "2     0\n",
      "3     0\n",
      "4     0\n",
      "5     0\n",
      "6     0\n",
      "7     0\n",
      "8     0\n",
      "9     0\n",
      "10    0\n",
      "Name: id, dtype: int64\n"
     ]
    }
   ],
   "source": [
    "print(table2.id)"
   ]
  },
  {
   "cell_type": "code",
   "execution_count": 7,
   "metadata": {},
   "outputs": [
    {
     "name": "stdout",
     "output_type": "stream",
     "text": [
      "0      0\n",
      "1      1\n",
      "2      2\n",
      "3      3\n",
      "4      4\n",
      "5      5\n",
      "6      6\n",
      "7      7\n",
      "8      8\n",
      "9      9\n",
      "10    10\n",
      "Name: id, dtype: int64\n"
     ]
    }
   ],
   "source": [
    "print(table1.id)"
   ]
  },
  {
   "cell_type": "code",
   "execution_count": 8,
   "metadata": {},
   "outputs": [
    {
     "name": "stdout",
     "output_type": "stream",
     "text": [
      "   id letra\n",
      "8   8     i\n"
     ]
    }
   ],
   "source": [
    "print(table1[table1.id == 8])"
   ]
  },
  {
   "cell_type": "code",
   "execution_count": 9,
   "metadata": {},
   "outputs": [
    {
     "name": "stdout",
     "output_type": "stream",
     "text": [
      "0 é igual, 0\n",
      "0 é igual, 0\n",
      "0 é igual, 0\n",
      "0 é igual, 0\n",
      "0 é igual, 0\n",
      "0 é igual, 0\n",
      "0 é igual, 0\n",
      "0 é igual, 0\n",
      "0 é igual, 0\n",
      "0 é igual, 0\n",
      "0 é igual, 0\n"
     ]
    }
   ],
   "source": [
    "for x in range(len(table1)):\n",
    "    for j in range(len(table2)):\n",
    "        if(table2.id[x] == table1.id[j]):\n",
    "            print(str(table2.id[x]) + \" é igual, \" + str(table1.id[j]))"
   ]
  },
  {
   "cell_type": "code",
   "execution_count": 10,
   "metadata": {},
   "outputs": [],
   "source": [
    "new_table = {}"
   ]
  },
  {
   "cell_type": "code",
   "execution_count": 11,
   "metadata": {},
   "outputs": [
    {
     "name": "stdout",
     "output_type": "stream",
     "text": [
      "h\n",
      "t\n",
      "g\n",
      "f\n",
      "c\n",
      "s\n",
      "e\n",
      "q\n",
      "z\n",
      "x\n",
      "c\n"
     ]
    }
   ],
   "source": [
    "for x in range(len(table1)):\n",
    "    for j in range(len(table2)):        \n",
    "        if(table2.id[x] == table1.id[j]):\n",
    "            print(str(table2.letra[x]))"
   ]
  },
  {
   "cell_type": "code",
   "execution_count": 33,
   "metadata": {},
   "outputs": [],
   "source": [
    "import matplotlib.pyplot as plt"
   ]
  },
  {
   "cell_type": "code",
   "execution_count": 63,
   "metadata": {},
   "outputs": [],
   "source": [
    "yu = {}\n",
    "ko = {}"
   ]
  },
  {
   "cell_type": "code",
   "execution_count": 87,
   "metadata": {},
   "outputs": [
    {
     "name": "stdout",
     "output_type": "stream",
     "text": [
      "{'letras': ['c'], 'id': ['0']}\n"
     ]
    }
   ],
   "source": [
    "for x in range(len(table1)):\n",
    "    for j in range(len(table2)):        \n",
    "        if(table2.id[x] == table1.id[j]):\n",
    "            #print(str(table2.letra[x]))\n",
    "            #yu[0] = {'letras':table2.letra[x]}\n",
    "            ko = {'letras': ['' + str(table2.letra[x])]\n",
    "                 ,'id':['' + str(table2.id[x])]}\n",
    "print(ko)"
   ]
  },
  {
   "cell_type": "code",
   "execution_count": 74,
   "metadata": {},
   "outputs": [],
   "source": [
    "import matplotlib.pyplot as plt\n",
    "%matplotlib inline"
   ]
  },
  {
   "cell_type": "code",
   "execution_count": 88,
   "metadata": {},
   "outputs": [
    {
     "name": "stdout",
     "output_type": "stream",
     "text": [
      "{'letras': ['c'], 'id': ['0']}\n"
     ]
    }
   ],
   "source": [
    "xu = pd.read_csv('table2.csv')\n",
    "\n",
    "df = pd.DataFrame(ko, columns= ['letras', 'id'])\n",
    "\n",
    "df.to_csv ('adataframe.csv', index = False, header=True)\n",
    "print(ko)"
   ]
  },
  {
   "cell_type": "code",
   "execution_count": null,
   "metadata": {},
   "outputs": [],
   "source": []
  }
 ],
 "metadata": {
  "kernelspec": {
   "display_name": "Python 3",
   "language": "python",
   "name": "python3"
  },
  "language_info": {
   "codemirror_mode": {
    "name": "ipython",
    "version": 3
   },
   "file_extension": ".py",
   "mimetype": "text/x-python",
   "name": "python",
   "nbconvert_exporter": "python",
   "pygments_lexer": "ipython3",
   "version": "3.7.5"
  }
 },
 "nbformat": 4,
 "nbformat_minor": 4
}
